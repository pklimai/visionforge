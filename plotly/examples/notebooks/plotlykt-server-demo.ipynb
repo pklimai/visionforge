{
 "cells": [
  {
   "cell_type": "code",
   "metadata": {
    "collapsed": false,
    "jupyter": {
     "outputs_hidden": false
    }
   },
   "source": [
    "//import space.kscience.plotly.server.PlotlyServerIntegration\n",
    "//import space.kscience.plotly.server.jupyter\n",
    "//\n",
    "//USE(PlotlyServerIntegration())\n",
    "@file:CompilerArgs(\"-jvm-target=11\")\n",
    "@file:Repository(\"https://repo.kotlin.link\")\n",
    "@file:DependsOn(\"space.kscience:plotlykt-server-jvm:0.7.1.1\")"
   ],
   "outputs": [],
   "execution_count": null
  },
  {
   "metadata": {},
   "cell_type": "code",
   "source": "Plotly.jupyter.notebook()",
   "outputs": [],
   "execution_count": null
  },
  {
   "cell_type": "code",
   "metadata": {},
   "source": [
    "import kotlin.math.*"
   ],
   "outputs": [],
   "execution_count": null
  },
  {
   "cell_type": "code",
   "metadata": {},
   "source": [
    "val x1 = (0..100).map { it.toDouble() / 100.0 }\n",
    "val y1 = x1.map { sin(2.0 * PI * it) }\n",
    "val y2 = x1.map { cos(2.0 * PI * it) }\n",
    "\n",
    "val trace1 = Trace(x1, y1) { name = \"sin\" }\n",
    "val trace2 = Trace(x1, y2) { name = \"cos\" }\n",
    "\n",
    "val fragment = Plotly.fragment { renderer ->\n",
    "    val plotConfig = PlotlyConfig {\n",
    "        responsive = true\n",
    "    }\n",
    "\n",
    "    plot(\"above\", config = plotConfig, renderer = renderer) {\n",
    "        traces(trace1, trace2)\n",
    "        layout {\n",
    "            title = \"The plot above\"\n",
    "            xaxis.title = \"x axis name\"\n",
    "            yaxis.title = \"y axis name\"\n",
    "        }\n",
    "    }\n",
    "    hr()\n",
    "    h1 { +\"A custom separator\" }\n",
    "    hr()\n",
    "    div {\n",
    "        plot(\"below\", renderer = renderer) {\n",
    "            traces(trace1, trace2)\n",
    "            layout {\n",
    "                title = \"The plot below\"\n",
    "                xaxis.title = \"x axis name\"\n",
    "                yaxis.title = \"y axis name\"\n",
    "            }\n",
    "        }\n",
    "    }\n",
    "}\n",
    "fragment"
   ],
   "outputs": [],
   "execution_count": null
  },
  {
   "cell_type": "code",
   "metadata": {},
   "source": [
    "Plotly.plot {\n",
    "    traces(trace1, trace2)\n",
    "    layout {\n",
    "        title = \"The plot below\"\n",
    "        xaxis.title = \"x axis name\"\n",
    "        yaxis.title = \"y axis name\"\n",
    "    }\n",
    "}"
   ],
   "outputs": [],
   "execution_count": null
  },
  {
   "cell_type": "code",
   "metadata": {},
   "source": [
    "val x = (0..100).map { it.toDouble() / 100.0 }\n",
    "val y = x.map { sin(2.0 * PI * it) }\n",
    "\n",
    "val trace = Trace(x, y) { name = \"sin\" }\n",
    "\n",
    "\n",
    "val dynamicPlot = Plotly.plot {\n",
    "    traces(trace)\n",
    "    layout {\n",
    "        title = \"Dynamic plot\"\n",
    "        xaxis.title = \"x axis name\"\n",
    "        yaxis.title = \"y axis name\"\n",
    "    }\n",
    "}\n",
    "\n",
    "dynamicPlot"
   ],
   "outputs": [],
   "execution_count": null
  },
  {
   "cell_type": "code",
   "metadata": {},
   "source": [
    "import kotlinx.coroutines.*\n",
    "\n",
    "val job = GlobalScope.launch {\n",
    "    var time: Long = 0\n",
    "    while (isActive) {\n",
    "        delay(10)\n",
    "        time += 10\n",
    "        val dynamicY = x.map { sin(2.0 * PI * (it + time.toDouble() / 1000.0)) }\n",
    "        trace.y.set(dynamicY)\n",
    "    }\n",
    "}"
   ],
   "outputs": [],
   "execution_count": null
  },
  {
   "cell_type": "code",
   "metadata": {},
   "source": [
    "job.cancel()"
   ],
   "outputs": [],
   "execution_count": null
  },
  {
   "cell_type": "code",
   "metadata": {},
   "source": [
    "dynamicPlot.layout.xaxis.title = \"крокозябра\""
   ],
   "outputs": [],
   "execution_count": null
  },
  {
   "cell_type": "code",
   "metadata": {},
   "source": [
    "Plotly.jupyter.port = 8884"
   ],
   "outputs": [],
   "execution_count": null
  },
  {
   "cell_type": "code",
   "metadata": {},
   "source": [
    "Plotly.jupyter.port"
   ],
   "outputs": [],
   "execution_count": null
  },
  {
   "cell_type": "code",
   "metadata": {
    "collapsed": false,
    "jupyter": {
     "outputs_hidden": false
    }
   },
   "source": [],
   "outputs": [],
   "execution_count": null
  }
 ],
 "metadata": {
  "@webio": {
   "lastCommId": null,
   "lastKernelId": null
  },
  "hide_input": false,
  "kernelspec": {
   "display_name": "Kotlin",
   "language": "kotlin",
   "name": "kotlin"
  },
  "ktnbPluginMetadata": {
   "projectLibraries": false
  },
  "language_info": {
   "codemirror_mode": "text/x-kotlin",
   "file_extension": ".kt",
   "mimetype": "text/x-kotlin",
   "name": "kotlin",
   "nbconvert_exporter": "",
   "pygments_lexer": "kotlin",
   "version": "1.9.23"
  },
  "toc": {
   "base_numbering": 1,
   "nav_menu": {},
   "number_sections": false,
   "sideBar": false,
   "skip_h1_title": false,
   "title_cell": "Table of Contents",
   "title_sidebar": "Contents",
   "toc_cell": false,
   "toc_position": {},
   "toc_section_display": false,
   "toc_window_display": false
  }
 },
 "nbformat": 4,
 "nbformat_minor": 4
}
