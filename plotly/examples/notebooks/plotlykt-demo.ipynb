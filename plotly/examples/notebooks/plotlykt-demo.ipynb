{
 "cells": [
  {
   "cell_type": "code",
   "execution_count": null,
   "metadata": {},
   "outputs": [],
   "source": [
    "import space.kscience.plotly.PlotlyIntegration\n",
    "USE(PlotlyIntegration())\n",
    "//@file:CompilerArgs(\"-jvm-target=11\")\n",
    "//@file:Repository(\"https://repo.kotlin.link\")\n",
    "//@file:DependsOn(\"space.kscience:plotlykt-jupyter-jvm:0.7.1\")"
   ]
  },
  {
   "cell_type": "code",
   "execution_count": null,
   "metadata": {
    "tags": []
   },
   "outputs": [],
   "source": [
    "import kotlin.math.*\n",
    "\n",
    "val x1 = (0..100).map { it.toDouble() / 100.0 }\n",
    "val y1 = x1.map { sin(2.0 * PI * it) }\n",
    "val y2 = x1.map { cos(2.0 * PI * it) }\n",
    "\n",
    "val trace1 = Trace(x1, y1) { name = \"sin\" }\n",
    "val trace2 = Trace(x1, y2) { name = \"cos\" }\n",
    "\n",
    "Plotly.page { renderer ->\n",
    "    val plotConfig = PlotlyConfig{\n",
    "        responsive = true\n",
    "        imageFormat = \"svg\"\n",
    "    }        \n",
    "    h1 { +\"A custom header\" }\n",
    "    hr()\n",
    "    plot(\"below\", config = plotConfig, renderer = renderer) {\n",
    "        traces(trace1, trace2)\n",
    "        layout {\n",
    "            title = \"The plot below\"\n",
    "            xaxis.title = \"x axis name\"\n",
    "            yaxis.title = \"y axis name\"\n",
    "        }\n",
    "    }\n",
    "\n",
    "}"
   ]
  },
  {
   "cell_type": "code",
   "outputs": [],
   "source": [
    "HTML(\n",
    "    \"\"\"\n",
    "    <div id=\"debug\">\n",
    "        debug\n",
    "    </div>\n",
    "     \"\"\".trimIndent()\n",
    ")"
   ],
   "metadata": {
    "collapsed": false
   },
   "execution_count": null
  },
  {
   "cell_type": "code",
   "outputs": [],
   "source": [
    "HTML(\"\"\"\n",
    "<script type = \"text/javascript\">\n",
    "        element = document.getElementById(\"debug\")\n",
    "        element.append(window.Plotly)\n",
    "        element.append(window.plotlyConnect)\n",
    "</script>\n",
    "     \"\"\".trimIndent())"
   ],
   "metadata": {
    "collapsed": false
   },
   "execution_count": null
  },
  {
   "cell_type": "code",
   "outputs": [],
   "source": [],
   "metadata": {
    "collapsed": false
   },
   "execution_count": null
  },
  {
   "cell_type": "code",
   "outputs": [],
   "source": [
    "HTML(\"\"\"\n",
    "<script src=\"https://cdn.plot.ly/plotly-2.29.1.min.js\" charset=\"utf-8\"></script>\n",
    "\"\"\")"
   ],
   "metadata": {
    "collapsed": false
   },
   "execution_count": null
  },
  {
   "cell_type": "code",
   "outputs": [],
   "source": [],
   "metadata": {
    "collapsed": false
   }
  }
 ],
 "metadata": {
  "@webio": {
   "lastCommId": null,
   "lastKernelId": null
  },
  "hide_input": false,
  "kernelspec": {
   "display_name": "Kotlin",
   "language": "kotlin",
   "name": "kotlin"
  },
  "language_info": {
   "codemirror_mode": "text/x-kotlin",
   "file_extension": ".kt",
   "mimetype": "text/x-kotlin",
   "name": "kotlin",
   "nbconvert_exporter": "",
   "pygments_lexer": "kotlin",
   "version": "1.5.30-dev-598"
  },
  "toc": {
   "base_numbering": 1,
   "nav_menu": {},
   "number_sections": false,
   "sideBar": false,
   "skip_h1_title": false,
   "title_cell": "Table of Contents",
   "title_sidebar": "Contents",
   "toc_cell": false,
   "toc_position": {},
   "toc_section_display": false,
   "toc_window_display": false
  },
  "ktnbPluginMetadata": {
   "projectDependencies": true
  }
 },
 "nbformat": 4,
 "nbformat_minor": 4
}
